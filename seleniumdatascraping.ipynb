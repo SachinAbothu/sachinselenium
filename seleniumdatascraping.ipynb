{
 "cells": [
  {
   "cell_type": "code",
   "execution_count": 1,
   "id": "d36fc0e0",
   "metadata": {},
   "outputs": [
    {
     "name": "stderr",
     "output_type": "stream",
     "text": [
      "\n",
      "\n",
      "====== WebDriver manager ======\n"
     ]
    },
    {
     "name": "stdout",
     "output_type": "stream",
     "text": [
      "10 Apr 2022 2022-04-20\n"
     ]
    },
    {
     "name": "stderr",
     "output_type": "stream",
     "text": [
      "Current google-chrome version is 100.0.4896\n",
      "Get LATEST chromedriver version for 100.0.4896 google-chrome\n",
      "Trying to download new driver from https://chromedriver.storage.googleapis.com/100.0.4896.60/chromedriver_win32.zip\n",
      "Driver has been saved in cache [C:\\Users\\91720\\.wdm\\drivers\\chromedriver\\win32\\100.0.4896.60]\n"
     ]
    }
   ],
   "source": [
    "from unittest import result\n",
    "from selenium import webdriver\n",
    "from selenium.webdriver.chrome.service import Service\n",
    "from webdriver_manager.chrome import ChromeDriverManager\n",
    "from selenium.webdriver.common.by import By\n",
    "from datetime import date\n",
    "from selenium.webdriver.support.ui import Select\n",
    "import datetime\n",
    "import csv\n",
    "website = 'https://www.giiresearch.com/material_report.shtml'\n",
    "\n",
    "from_date = date(2022,4,10)\n",
    "to_date = date(2022,4,20)\n",
    "print(from_date.strftime('%d %b %Y'),to_date)\n",
    "\n",
    "s=Service(ChromeDriverManager().install())\n",
    "driver = webdriver.Chrome(service=s)\n",
    "driver.get(website)\n",
    "\n",
    "items_dropdown =  Select(driver.find_element(by=By.CLASS_NAME,value='slct_limit'))\n",
    "#items_dropdown.select_by_value('100')\n",
    "\n",
    "curr_page_items = driver.find_elements(by=By.CLASS_NAME,value=\"plist_item\")\n",
    "last_item_pub_date = curr_page_items[-1].find_element(by=By.CLASS_NAME,value=\"plist_dateinfo\").find_element(by=By.CLASS_NAME,value=\"plist_info_dd2\")\n",
    "last_item_pub_date_obj = datetime.datetime.strptime(last_item_pub_date.text, \"%B %d, %Y\").date()\n",
    "\n",
    "first_item_pub_date = curr_page_items[0].find_element(by=By.CLASS_NAME,value=\"plist_dateinfo\").find_element(by=By.CLASS_NAME,value=\"plist_info_dd2\")\n",
    "first_item_pub_date_obj = datetime.datetime.strptime(first_item_pub_date.text, \"%B %d, %Y\").date()\n",
    "\n",
    "result_total_count = driver.find_element(by=By.CLASS_NAME,value=\"result_total\").text\n",
    "field_names = ['title', 'published_by', 'product_code','published','content_info','price']\n",
    "total_items = []\n",
    "\n",
    "def get_items_info(total_items):\n",
    "    curr_page_items = driver.find_elements(by=By.CLASS_NAME,value=\"plist_item\")\n",
    "    for i in curr_page_items:\n",
    "            curr_date = i.find_element(by=By.CLASS_NAME,value=\"plist_dateinfo\").find_element(by=By.CLASS_NAME,value=\"plist_info_dd2\")\n",
    "            curr_date_obj = datetime.datetime.strptime(curr_date.text, \"%B %d, %Y\").date()\n",
    "            if curr_date_obj >= from_date:\n",
    "                total_items.append({\n",
    "                    'title' : i.find_element(by=By.CLASS_NAME,value=\"list_title\").text,\n",
    "                    'published_by' : i.find_element(by=By.CLASS_NAME,value=\"plist_pubinfo\").find_element(by=By.CLASS_NAME,value=\"plist_info_dd2\").text,\n",
    "                    'product_code' : i.find_element(by=By.CLASS_NAME,value=\"plist_codeinfo\").find_element(by=By.CLASS_NAME,value=\"plist_info_dd2\").text,\n",
    "                    'published' : i.find_element(by=By.CLASS_NAME,value=\"plist_dateinfo\").find_element(by=By.CLASS_NAME,value=\"plist_info_dd2\").text,\n",
    "                    'content_info' : i.find_element(by=By.CLASS_NAME,value=\"plist_pageinfo\").find_element(by=By.CLASS_NAME,value=\"plist_info_dd2\").text,\n",
    "                    'price' : i.find_element(by=By.CLASS_NAME,value=\"plist_priceinfo\").find_element(by=By.CLASS_NAME,value=\"plist_info_dd\").find_element(by=By.CLASS_NAME,value=\"price_usd\").text\n",
    "                })\n",
    "\n",
    "with open('output.csv', 'w') as csvfile:\n",
    "    writer = csv.DictWriter(csvfile, fieldnames = field_names)\n",
    "    writer.writeheader()\n",
    "\n",
    "\n",
    "    while from_date <= last_item_pub_date_obj:\n",
    "        if first_item_pub_date_obj <= to_date:\n",
    "            get_items_info(total_items)\n",
    "        driver.find_element(by=By.CLASS_NAME,value='btn_next').click()\n",
    "        \n",
    "        curr_page_items = driver.find_elements(by=By.CLASS_NAME,value=\"plist_item\")\n",
    "        last_item_pub_date = curr_page_items[-1].find_element(by=By.CLASS_NAME,value=\"plist_dateinfo\").find_element(by=By.CLASS_NAME,value=\"plist_info_dd2\")\n",
    "        last_item_pub_date_obj = datetime.datetime.strptime(last_item_pub_date.text, \"%B %d, %Y\").date()\n",
    "\n",
    "        \n",
    "        first_item_pub_date = curr_page_items[0].find_element(by=By.CLASS_NAME,value=\"plist_dateinfo\").find_element(by=By.CLASS_NAME,value=\"plist_info_dd2\")\n",
    "        first_item_pub_date_obj = datetime.datetime.strptime(first_item_pub_date.text, \"%B %d, %Y\").date()\n",
    "    if first_item_pub_date_obj <= to_date:\n",
    "        get_items_info(total_items)\n",
    "    writer.writerows(total_items)"
   ]
  },
  {
   "cell_type": "code",
   "execution_count": null,
   "id": "2268ad2d",
   "metadata": {},
   "outputs": [],
   "source": []
  }
 ],
 "metadata": {
  "kernelspec": {
   "display_name": "Python 3",
   "language": "python",
   "name": "python3"
  },
  "language_info": {
   "codemirror_mode": {
    "name": "ipython",
    "version": 3
   },
   "file_extension": ".py",
   "mimetype": "text/x-python",
   "name": "python",
   "nbconvert_exporter": "python",
   "pygments_lexer": "ipython3",
   "version": "3.8.8"
  }
 },
 "nbformat": 4,
 "nbformat_minor": 5
}
